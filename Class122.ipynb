{
  "nbformat": 4,
  "nbformat_minor": 0,
  "metadata": {
    "colab": {
      "name": "Class122.ipynb",
      "provenance": [],
      "collapsed_sections": [],
      "authorship_tag": "ABX9TyMPdejaX6mosNgYCrJmrw2X",
      "include_colab_link": true
    },
    "kernelspec": {
      "name": "python3",
      "display_name": "Python 3"
    },
    "language_info": {
      "name": "python"
    }
  },
  "cells": [
    {
      "cell_type": "markdown",
      "metadata": {
        "id": "view-in-github",
        "colab_type": "text"
      },
      "source": [
        "<a href=\"https://colab.research.google.com/github/Prathmon/Class123/blob/main/Class122.ipynb\" target=\"_parent\"><img src=\"https://colab.research.google.com/assets/colab-badge.svg\" alt=\"Open In Colab\"/></a>"
      ]
    },
    {
      "cell_type": "code",
      "execution_count": 4,
      "metadata": {
        "id": "riO71Irti-gv"
      },
      "outputs": [],
      "source": [
        "import numpy as np\n",
        "import pandas as pd\n",
        "import seaborn as sns\n",
        "import cv2\n",
        "import matplotlib.pyplot as plt\n",
        "from sklearn.datasets import fetch_openml\n",
        "from sklearn.model_selection import train_test_split\n",
        "from sklearn.linear_model import LogisticRegression\n",
        "from sklearn.metrics import accuracy_score\n",
        "from PIL import Image\n",
        "import PIL.ImageOps \n",
        "import os, ssl, time"
      ]
    },
    {
      "cell_type": "markdown",
      "source": [
        "1. Import cv2 - This is the library with which we will use the computer's camera\n",
        "2. Import numpy as np - With this we can perform complex mathematical list operations\n",
        "3. Import pandas as pd- With this we can read the data in the form of dataframe\n",
        "4. Import seaborn as sns - We use this module to prettify the charts that we draw with matplotlib\n",
        "5. Import matplotlib.pyplot as plt - This module is used to draw charts.\n",
        "6. from sklearn.datasets import fetch_openml - This function allows us to retrieve a dataset by name from openml. Openml is a public repository from where we can import \n",
        "7. from sklearn.model_selection import train_test_split - This is used to split the data into training and testing.\n",
        "8. from sklearn.linear_model import LogisticRegression - It is used to create a logistic regression classifier.\n",
        "9. from sklearn.metrics import accuracy_score - It is used to test the accuracy score of a model"
      ],
      "metadata": {
        "id": "cObh960vj2qK"
      }
    },
    {
      "cell_type": "code",
      "source": [
        "if (not os.environ.get('PYTHONHTTPSVERIFY', '') and\n",
        "    getattr(ssl, '_create_unverified_context', None)):\n",
        "    ssl._create_default_https_context = ssl._create_unverified_context"
      ],
      "metadata": {
        "id": "kX-YbX0FumyU"
      },
      "execution_count": 11,
      "outputs": []
    },
    {
      "cell_type": "markdown",
      "source": [
        "Setting an https context to fetch data from openml\n",
        "\n",
        "Fetching the data\n",
        "X, y"
      ],
      "metadata": {
        "id": "90bRuIsvwJ2S"
      }
    },
    {
      "cell_type": "code",
      "source": [
        "X, y = fetch_openml('mnist_784', version = 1, return_X_y = True)\n",
        "print(pd.Series(y).value_counts())\n",
        "classes = ['0', '1', '2', '3', '4', '5', '6', '7', '8', '9']\n",
        "nclasses = len(classes)"
      ],
      "metadata": {
        "colab": {
          "base_uri": "https://localhost:8080/"
        },
        "id": "dY478ZoMwYew",
        "outputId": "0feaa33c-250c-4788-fac4-3a595b43cba3"
      },
      "execution_count": 12,
      "outputs": [
        {
          "output_type": "stream",
          "name": "stdout",
          "text": [
            "1    7877\n",
            "7    7293\n",
            "3    7141\n",
            "2    6990\n",
            "9    6958\n",
            "0    6903\n",
            "6    6876\n",
            "8    6825\n",
            "4    6824\n",
            "5    6313\n",
            "Name: class, dtype: int64\n"
          ]
        }
      ]
    },
    {
      "cell_type": "markdown",
      "source": [
        "As we know that we can represent an image in binary, here in the first line of code we are fetching the dataset of images of handwritten digits from the openml datasets. Here X is data of images represented in binary, y is label of that image. Next, we are counting the samples for each of the labels. As in the output we can see that label 1 has 7877, label 2 has 6990 and so on. Finally, we are creating a list that contains all the labels of the images."
      ],
      "metadata": {
        "id": "jhRJRjjbnw0C"
      }
    },
    {
      "cell_type": "code",
      "source": [
        "samples_per_class = 5\n",
        "figure = plt.figure(figsize = (nclasses*2, (1+samples_per_class*2)))\n",
        "print(figure)"
      ],
      "metadata": {
        "colab": {
          "base_uri": "https://localhost:8080/",
          "height": 52
        },
        "id": "RgWutkcQotEi",
        "outputId": "3ed3068f-cdb2-4f8f-f598-7c0fec7056ad"
      },
      "execution_count": null,
      "outputs": [
        {
          "output_type": "stream",
          "name": "stdout",
          "text": [
            "Figure(1440x792)\n"
          ]
        },
        {
          "output_type": "display_data",
          "data": {
            "text/plain": [
              "<Figure size 1440x792 with 0 Axes>"
            ]
          },
          "metadata": {}
        }
      ]
    },
    {
      "cell_type": "markdown",
      "source": [
        "Splitting the data and scaling it"
      ],
      "metadata": {
        "id": "n2mqAzL0x2OY"
      }
    },
    {
      "cell_type": "code",
      "source": [
        "X_train, X_test, y_train, y_test = train_test_split(X, y, random_state = 9, train_size = 7500, test_size = 2500)\n",
        "X_train_scaled = X_train/255.0\n",
        "X_test_scaled = X_test/255.0"
      ],
      "metadata": {
        "id": "aCU7vf8TyUId"
      },
      "execution_count": 13,
      "outputs": []
    },
    {
      "cell_type": "markdown",
      "source": [
        "Fitting the training data into model"
      ],
      "metadata": {
        "id": "7r2bZqJxztFz"
      }
    },
    {
      "cell_type": "code",
      "source": [
        "clf = LogisticRegression(solver='saga', multi_class='multinomial').fit(X_train_scaled, y_train)\n",
        "y_pred = clf.predict(X_test_scaled)\n",
        "accuracy = accuracy_score(y_test, y_pred)\n",
        "print('Accuracy is:', accuracy)"
      ],
      "metadata": {
        "colab": {
          "base_uri": "https://localhost:8080/"
        },
        "id": "_Q_se0AXz19y",
        "outputId": "0212cc67-f1c6-43d1-d314-26d3e15885e0"
      },
      "execution_count": 19,
      "outputs": [
        {
          "output_type": "stream",
          "name": "stdout",
          "text": [
            "Accuracy is: 0.9\n"
          ]
        },
        {
          "output_type": "stream",
          "name": "stderr",
          "text": [
            "/usr/local/lib/python3.7/dist-packages/sklearn/linear_model/_sag.py:354: ConvergenceWarning: The max_iter was reached which means the coef_ did not converge\n",
            "  ConvergenceWarning,\n"
          ]
        }
      ]
    },
    {
      "cell_type": "markdown",
      "source": [
        "Scaling the features"
      ],
      "metadata": {
        "id": "w2YrY-y-yuBb"
      }
    }
  ]
}